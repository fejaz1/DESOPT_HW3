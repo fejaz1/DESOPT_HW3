{
 "cells": [
  {
   "cell_type": "code",
   "execution_count": 1,
   "metadata": {},
   "outputs": [
    {
     "name": "stdout",
     "output_type": "stream",
     "text": [
      "Estimated A12 and A21: tensor([1.9578, 1.6897], requires_grad=True)\n",
      "\n",
      "\n",
      "Objective Value: 0.67022634\n",
      "\n",
      "\n"
     ]
    }
   ],
   "source": [
    "import numpy as np\n",
    "import torch as t\n",
    "from torch.autograd import Variable\n",
    "import matplotlib.pyplot as plt\n",
    "\n",
    "#input the saturated pressures\n",
    "p = np.array([[28.1,34.4,36.7,36.9,36.8,36.7,36.5,35.4,32.9,27.7,17.5]])\n",
    "p = t.tensor(p, requires_grad=False, dtype=t.float32)\n",
    "p_sat_w = 10.0 ** ( 8.07131 - 1730.63 / (20.0 + 233.426))\n",
    "p_sat_d = 10.0 ** (7.43155 - 1554.679 / (20.0 + 240.337))\n",
    "\n",
    "#input the fractions\n",
    "X1 = [0.0,0.1,0.2,0.3,0.4,0.5,0.6,0.7,0.8,0.9,1.0] \n",
    "X2 = [1.0,0.9,0.8,0.7,0.6,0.5,0.4,0.3,0.2,0.1,0.0]\n",
    "x1 = t.tensor(X1, requires_grad=False, dtype=t.float32)\n",
    "x2 = t.tensor(X2, requires_grad=False, dtype=t.float32)\n",
    "\n",
    "A = Variable(t.tensor([1.0, 1.0]), requires_grad=True)\n",
    "a = np.array(([[8.07131, 1730.63, 233.426], [7.43155, 1554.679, 240.337]]))\n",
    "\n",
    "#ideally we should use armijo line search for alpha\n",
    "a = 0.0005\n",
    "\n",
    "for i in range(100):\n",
    "    #calculate the predicted pressure\n",
    "    p_pred = x1*t.exp(A[0]*(A[1]*x2/(A[0]*x1+A[1]*x2))**2)*p_sat_w + x2*t.exp(A[1]*(A[0]*x1/(A[0]*x1+A[1]*x2))**2)*p_sat_d\n",
    "\n",
    "    loss = (p_pred - p)**2 #objective\n",
    "    loss = loss.sum()\n",
    "    loss.backward() #calculate loss for every perimeter\n",
    "\n",
    "    with t.no_grad():\n",
    "        A -= a * A.grad #substract and assign the value to the variable\n",
    "        A.grad.zero_() #restart loop\n",
    "\n",
    "print ('Estimated A12 and A21:',A)\n",
    "print ('\\n')\n",
    "print ('Objective Value:',loss.data.numpy())\n",
    "print ('\\n')"
   ]
  },
  {
   "cell_type": "code",
   "execution_count": 14,
   "metadata": {},
   "outputs": [
    {
     "name": "stdout",
     "output_type": "stream",
     "text": [
      "Predicted Pressure tensor([28.8241, 34.6417, 36.4511, 36.8660, 36.8728, 36.7487, 36.3898, 35.3854,\n",
      "        32.9501, 27.7333, 17.4733], grad_fn=<AddBackward0>) 1\n",
      "\n",
      "\n",
      "Actual Pressure tensor([[28.1000, 34.4000, 36.7000, 36.9000, 36.8000, 36.7000, 36.5000, 35.4000,\n",
      "         32.9000, 27.7000, 17.5000]])\n",
      "\n",
      "\n",
      "Our model fits well with the data\n"
     ]
    }
   ],
   "source": [
    "for i in range (11) :\n",
    "    x_1 = X1[i]\n",
    "    x_2= X2[i]\n",
    "    p_pred = x1*t.exp(A[0]*(A[1]*x2/(A[0]*x1+A[1]*x2))**2)*p_sat_w + x2*t.exp(A[1]*(A[0]*x1/(A[0]*x1+A[1]*x2))**2)*p_sat_d\n",
    "    \n",
    "print ('Predicted Pressure', p_pred,1) \n",
    "print ('\\n')\n",
    "print('Actual Pressure',p)\n",
    "print ('\\n')\n",
    "print('Our model fits well with the data')"
   ]
  },
  {
   "cell_type": "code",
   "execution_count": null,
   "metadata": {},
   "outputs": [],
   "source": []
  }
 ],
 "metadata": {
  "kernelspec": {
   "display_name": "Python 3",
   "language": "python",
   "name": "python3"
  },
  "language_info": {
   "codemirror_mode": {
    "name": "ipython",
    "version": 3
   },
   "file_extension": ".py",
   "mimetype": "text/x-python",
   "name": "python",
   "nbconvert_exporter": "python",
   "pygments_lexer": "ipython3",
   "version": "3.7.6"
  }
 },
 "nbformat": 4,
 "nbformat_minor": 4
}
